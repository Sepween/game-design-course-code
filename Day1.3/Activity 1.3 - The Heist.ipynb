{
 "cells": [
  {
   "cell_type": "markdown",
   "source": [
    "# Activity 1.3 - The Heist\n",
    "\n",
    "Welcome to the Heist!! You are attempting to hack into a vault containing a powerful secret... You will be given a series of tasks to complete using the coding principles we've gone over in class. Successful completion of each task will yield a character of the vault's access key. There are 4 characters to unlock, and they will not be given to you in the correct order."
   ],
   "metadata": {}
  },
  {
   "cell_type": "markdown",
   "source": [
    "<img src=\"ArtAssets3/hack.jpg\">"
   ],
   "metadata": {}
  },
  {
   "cell_type": "markdown",
   "source": [
    "Once you have the access key, you must enter it into the vault by using the following command:\n",
    "\n",
    "`heist.access(password)`\n",
    "\n",
    "Where you replace the word password in the parenthesis with your attempt. In fact, we will be passing variables into methods like this multiple times throughout the challenge.\n",
    "\n",
    "Will you be the first group to finish and unlock the vault's secret???"
   ],
   "metadata": {}
  },
  {
   "cell_type": "markdown",
   "source": [
    "## Getting Started\n",
    "\n",
    "**DO NOT OPEN ANY OF THE .py FILES!**\n",
    "\n",
    "I've organized this page for you with different blocks for each task. One is a place for you to take notes, and the other is a place to run your code.\n",
    "\n",
    "I've given you the code to gain access to the system. Run the line below to hack in and get started."
   ],
   "metadata": {}
  },
  {
   "cell_type": "code",
   "execution_count": 1,
   "source": [
    "import _src.heist as heist\n",
    "heist.start()"
   ],
   "outputs": [
    {
     "output_type": "stream",
     "name": "stdout",
     "text": [
      "\n",
      "Welcome to the Heist!! You are attempting to hack into a vault containing a powerful secret...\n",
      "You will be given a series of tasks to complete using the coding principles we've gone over in class.\n",
      "\n",
      "Successful completion of each task will yield a character of the vault's access key. They are not given in order.\n",
      "Once you have collected all 4 characters, you must find the correct order of them to access the vault and complete the hack.\n",
      "\n",
      "For initializing the first system, you will be rewarded a character.\n",
      ".\n",
      "\n",
      ".\n",
      "\n",
      ".\n",
      "\n",
      "The first character is &\n",
      "\n",
      "To access the next task, enter the following command: heist.loops.start()\n"
     ]
    }
   ],
   "metadata": {}
  },
  {
   "cell_type": "markdown",
   "source": [
    "### Task 2:\n",
    "\n",
    "**Notes: Password: &___**"
   ],
   "metadata": {}
  },
  {
   "cell_type": "code",
   "execution_count": 2,
   "source": [
    "heist.loops.start()"
   ],
   "outputs": [
    {
     "output_type": "stream",
     "name": "stdout",
     "text": [
      "This firewall can be surpassed by brute force. To do so, you must call the following function 1001 times:\n",
      "\n",
      "hack()\n",
      "\n",
      "However, you must figure out the proper syntax for calling this function. Good Luck!\n"
     ]
    }
   ],
   "metadata": {}
  },
  {
   "cell_type": "code",
   "execution_count": 5,
   "source": [
    "for i in range(1001):\n",
    "    heist.loops.hack()"
   ],
   "outputs": [
    {
     "output_type": "stream",
     "name": "stdout",
     "text": [
      "Congratulations! You've successfully hacked once. Now you need to hack 1000 more times...\n",
      "\n",
      "That's 100 hacks... 10% complete\n",
      "\n",
      "20.0% complete...\n",
      "30.0% complete...\n",
      "40.0% complete...\n",
      "50.0% complete...\n",
      "60.0% complete...\n",
      "70.0% complete...\n",
      "80.0% complete...\n",
      "90.0% complete...\n",
      "Task completed. The next characer: 5\n",
      "For your next task, run heist.numberPatch.start()\n"
     ]
    }
   ],
   "metadata": {}
  },
  {
   "cell_type": "markdown",
   "source": [
    "### Task 3: \n",
    "\n",
    "**Notes: Password: &5__**"
   ],
   "metadata": {}
  },
  {
   "cell_type": "code",
   "execution_count": 7,
   "source": [
    "heist.numberPatch.start()"
   ],
   "outputs": [
    {
     "output_type": "stream",
     "name": "stdout",
     "text": [
      "This task is a bit more tricky... We have 8 numbers in a list that should all be the same, but one of them is bigger than the others.\n",
      "You must determine which of these numbers is the biggest, and you can only do so by comparing the sums of other numbers a maximium of 2 times before the system resets.\n",
      "If you select the wrong number, the system will lock you out for 1 minute before reseting to try again.\n",
      "To compare sums, you must enter the indices of the numbers in the list you wish to add for the first sum, then again for the second. You may add any number of the numbers together.\n",
      "\n",
      "\n",
      "The Indices: [0, 1, 2, 3, 4, 5, 6, 7]\n",
      "Input your two sets (lists) of number indices to be weighed, one at a time. They should look like this - XXXX - and may be up to 8 long. The X's represent the indices of the number in the list of numbers.\n",
      "The two sets, ['7'] and ['6'] are of equal sum\n",
      "\n",
      "The Indices: [0, 1, 2, 3, 4, 5, 6, 7]\n",
      "Input your two sets (lists) of number indices to be weighed, one at a time. They should look like this - XXXX - and may be up to 8 long. The X's represent the indices of the number in the list of numbers.\n",
      "The two sets, ['7', '7', '7', '7', '7', '7', '7', '7'] and ['6', '6', '6', '6', '6', '6', '6', '6'] are of equal sum\n",
      "Sorry, you guessed incorrectly. Now you must wait one minute before trying again.\n",
      "\n",
      "The Indices: [0, 1, 2, 3, 4, 5, 6, 7]\n",
      "Input your two sets (lists) of number indices to be weighed, one at a time. They should look like this - XXXX - and may be up to 8 long. The X's represent the indices of the number in the list of numbers.\n",
      "The first set of numbers, ['5'] has a larger sum than the second set of numbers, ['4']\n",
      "\n",
      "The Indices: [0, 1, 2, 3, 4, 5, 6, 7]\n",
      "Input your two sets (lists) of number indices to be weighed, one at a time. They should look like this - XXXX - and may be up to 8 long. The X's represent the indices of the number in the list of numbers.\n",
      "The first set of numbers, ['6'] has a smaller sum than the second set of numbers, ['5']\n",
      "\n",
      "Repairing list....\n",
      "Repair successful, access granted...\n",
      "The next character is Y\n",
      "To begin the next challenge, input heist.fuseBypass.start()\n"
     ]
    }
   ],
   "metadata": {}
  },
  {
   "cell_type": "markdown",
   "source": [
    "### Task 4:\n",
    "\n",
    "**Notes: Password: &5Y_**"
   ],
   "metadata": {}
  },
  {
   "cell_type": "code",
   "execution_count": 8,
   "source": [
    "heist.fuseBypass.start()"
   ],
   "outputs": [
    {
     "output_type": "stream",
     "name": "stdout",
     "text": [
      "To unlock the next character in the password, we'll need to bypass a fuse in the computer system.\n",
      "The fuses are numbered 0-999. To test a fuse, you must enter which fuse to test in the parenthesis of heist.fuseBypass.test() and run.\n",
      "If you test a fuse higher than the target, the fuse will blow and the test will return False. If you test a fuse lower than the target, the test will return True\n",
      "You only get 2 blown fuses before you have to commit to the bypass.\n",
      "\n",
      "To bypass the target, run heist.fuseBypass.bypass()\n",
      "If you guess wrong, the system will reset, and the bypass fuse will change.\n",
      "\n",
      "Use what you know of python to write some code to help you test as many fuses as possible quickly. If you take too many attempts, \n",
      "the code will tell you whether or not you got the right fuse, but will make you try again to guess faster\n",
      "Good Luck!\n",
      "\n"
     ]
    }
   ],
   "metadata": {}
  },
  {
   "cell_type": "code",
   "execution_count": 19,
   "source": [
    "heist.fuseBypass.test(30)\n",
    "heist.fuseBypass.test(31)\n",
    "heist.fuseBypass.bypass()"
   ],
   "outputs": [
    {
     "output_type": "stream",
     "name": "stdout",
     "text": [
      "Nothing happened at 30.\n",
      "\n",
      "Nothing happened at 31.\n",
      "\n",
      "Correct fuse bypass detected....\n",
      "\n",
      "Authorization verified. Bypassing...\n",
      "\n",
      "The next character is 7\n",
      "Now, you must unscramble the characters to find the passcode. Enter the password into the parenthesis in heist.access(). If you guess the password correctly, it will return 'True', otherwise it will return 'False'.\n",
      "You may have to write some code to guess the correct combination\n"
     ]
    }
   ],
   "metadata": {}
  },
  {
   "cell_type": "markdown",
   "source": [
    "### Enter Acess Key:\n",
    "\n",
    "**Notes:**\n",
    "- Password in right order: Y7R5\n",
    "- Last four digit not in order: GL8T"
   ],
   "metadata": {}
  },
  {
   "cell_type": "code",
   "execution_count": 33,
   "source": [
    "heist.access('Y7&5')"
   ],
   "outputs": [
    {
     "output_type": "stream",
     "name": "stdout",
     "text": [
      "Hacking attempt detected... Password is key plus 4 more characters: GL8T... These are not in order. Try again with all 8 characters...\n"
     ]
    },
    {
     "output_type": "execute_result",
     "data": {
      "text/plain": [
       "True"
      ]
     },
     "metadata": {},
     "execution_count": 33
    }
   ],
   "metadata": {}
  },
  {
   "cell_type": "code",
   "execution_count": 40,
   "source": [
    "characters = ('&', '5', 'Y', '7', 'G', 'L', '8', 'T')\n",
    "baseEight = [0,0,0,0,0,0,0,0]\n",
    "numberOfChecks = 0\n",
    "\n",
    "unlocked = False\n",
    "\n",
    "while(not unlocked):\n",
    "    #This checks for repeat digits in the list. With a quick google search I found the set() function that removes \n",
    "    #duplicate items from a list. So if any number is repeated we skip because the length of set(baseEight) will be\n",
    "    #less than the length of baseEight\n",
    "    \n",
    "    currentSet = baseEight\n",
    "    \n",
    "    if len(baseEight) == len(set(currentSet)): #didn't want to modify baseEight for the check so copied to currentSet first\n",
    "        password = characters[baseEight[0]]+characters[baseEight[1]]+characters[baseEight[2]]+characters[baseEight[3]]+characters[baseEight[4]]+characters[baseEight[5]]+characters[baseEight[6]]+characters[baseEight[7]]\n",
    "        unlocked = heist.access(password)\n",
    "        numberOfChecks += 1\n",
    "    \n",
    "    \n",
    "    #This is the Lexicographical Order algorithm. Essentially, it will count up the digits in baseEight until they reach\n",
    "    #7, then reset that digit to 0 and add one to the next digit. Check out\n",
    "    #https://en.wikipedia.org/wiki/Lexicographical_order for more info. If you don't understand it, don't sweat it\n",
    "    #the nested loops solution works great\n",
    "    counter = 1\n",
    "    for i in range(8):\n",
    "        if (baseEight[i] < 7 or counter == 0):\n",
    "            baseEight[i] += counter\n",
    "            counter = 0\n",
    "            break\n",
    "        else:\n",
    "            baseEight[i] = 0\n",
    "            counter = 1\n",
    "            \n",
    "    if baseEight == [7,7,7,7,7,7,7,7]:\n",
    "        break\n",
    "else:        \n",
    "    print(numberOfChecks)"
   ],
   "outputs": [
    {
     "output_type": "stream",
     "name": "stdout",
     "text": [
      "Password authentication complete...\n",
      "Retrieving data...\n",
      ".\n",
      "\n",
      ".\n",
      "\n",
      ".\n",
      "\n",
      "\n",
      "Congratulations! You've successfully unlocked the vault. Don't spoil the Rickroll for anyone else ;)\n",
      "13103\n"
     ]
    }
   ],
   "metadata": {}
  },
  {
   "cell_type": "code",
   "execution_count": null,
   "source": [],
   "outputs": [],
   "metadata": {}
  },
  {
   "cell_type": "code",
   "execution_count": null,
   "source": [],
   "outputs": [],
   "metadata": {}
  }
 ],
 "metadata": {
  "kernelspec": {
   "display_name": "Python 3",
   "language": "python",
   "name": "python3"
  },
  "language_info": {
   "codemirror_mode": {
    "name": "ipython",
    "version": 3
   },
   "file_extension": ".py",
   "mimetype": "text/x-python",
   "name": "python",
   "nbconvert_exporter": "python",
   "pygments_lexer": "ipython3",
   "version": "3.7.3"
  }
 },
 "nbformat": 4,
 "nbformat_minor": 2
}